{
 "cells": [
  {
   "cell_type": "code",
   "execution_count": 1,
   "id": "37d21984",
   "metadata": {},
   "outputs": [],
   "source": [
    "import numpy as np\n",
    "import cv2"
   ]
  },
  {
   "cell_type": "markdown",
   "id": "a4c47214",
   "metadata": {},
   "source": [
    "# Завдання\n",
    "## 1. Створити двомірний нульовий масив розміром 11х11 та заповнити його діагоналі одиницями.\n",
    "\n",
    "1.1. Задати розмір масиву"
   ]
  },
  {
   "cell_type": "code",
   "execution_count": 1,
   "id": "e58b95a5",
   "metadata": {
    "scrolled": true
   },
   "outputs": [],
   "source": [
    "size = 11"
   ]
  },
  {
   "cell_type": "markdown",
   "id": "60e7d05e",
   "metadata": {},
   "source": [
    "1.2. Створити нульовий масив заданого розміру"
   ]
  },
  {
   "cell_type": "code",
   "execution_count": 3,
   "id": "b6c1b949",
   "metadata": {},
   "outputs": [],
   "source": [
    "arr = np.zeros([size, size])"
   ]
  },
  {
   "cell_type": "markdown",
   "id": "600b439c",
   "metadata": {},
   "source": [
    "1.3 Надрукувати створений масив"
   ]
  },
  {
   "cell_type": "code",
   "execution_count": 4,
   "id": "c5b8d47a",
   "metadata": {},
   "outputs": [
    {
     "name": "stdout",
     "output_type": "stream",
     "text": [
      "[[0. 0. 0. 0. 0. 0. 0. 0. 0. 0. 0.]\n",
      " [0. 0. 0. 0. 0. 0. 0. 0. 0. 0. 0.]\n",
      " [0. 0. 0. 0. 0. 0. 0. 0. 0. 0. 0.]\n",
      " [0. 0. 0. 0. 0. 0. 0. 0. 0. 0. 0.]\n",
      " [0. 0. 0. 0. 0. 0. 0. 0. 0. 0. 0.]\n",
      " [0. 0. 0. 0. 0. 0. 0. 0. 0. 0. 0.]\n",
      " [0. 0. 0. 0. 0. 0. 0. 0. 0. 0. 0.]\n",
      " [0. 0. 0. 0. 0. 0. 0. 0. 0. 0. 0.]\n",
      " [0. 0. 0. 0. 0. 0. 0. 0. 0. 0. 0.]\n",
      " [0. 0. 0. 0. 0. 0. 0. 0. 0. 0. 0.]\n",
      " [0. 0. 0. 0. 0. 0. 0. 0. 0. 0. 0.]]\n"
     ]
    }
   ],
   "source": [
    "print(arr)"
   ]
  },
  {
   "cell_type": "markdown",
   "id": "fa312669",
   "metadata": {},
   "source": [
    "1.4 Змінити діагоналі за допомогою двох циклів"
   ]
  },
  {
   "cell_type": "code",
   "execution_count": 5,
   "id": "da4ce2c8",
   "metadata": {},
   "outputs": [],
   "source": [
    "for i in range(size):\n",
    "\tfor j in range(size):\n",
    "\t\tif (i==j):\n",
    "\t\t\tarr[i][j] = 1\n",
    "\t\telif (size-i-1==j):\n",
    "\t\t\tarr[i][j] = 1"
   ]
  },
  {
   "cell_type": "markdown",
   "id": "93fc957c",
   "metadata": {},
   "source": [
    "1.5 Вивести створений масив "
   ]
  },
  {
   "cell_type": "markdown",
   "id": "5dc34bf0",
   "metadata": {},
   "source": [
    "#"
   ]
  },
  {
   "cell_type": "code",
   "execution_count": 6,
   "id": "8bbe7041",
   "metadata": {},
   "outputs": [
    {
     "name": "stdout",
     "output_type": "stream",
     "text": [
      "[[1. 0. 0. 0. 0. 0. 0. 0. 0. 0. 1.]\n",
      " [0. 1. 0. 0. 0. 0. 0. 0. 0. 1. 0.]\n",
      " [0. 0. 1. 0. 0. 0. 0. 0. 1. 0. 0.]\n",
      " [0. 0. 0. 1. 0. 0. 0. 1. 0. 0. 0.]\n",
      " [0. 0. 0. 0. 1. 0. 1. 0. 0. 0. 0.]\n",
      " [0. 0. 0. 0. 0. 1. 0. 0. 0. 0. 0.]\n",
      " [0. 0. 0. 0. 1. 0. 1. 0. 0. 0. 0.]\n",
      " [0. 0. 0. 1. 0. 0. 0. 1. 0. 0. 0.]\n",
      " [0. 0. 1. 0. 0. 0. 0. 0. 1. 0. 0.]\n",
      " [0. 1. 0. 0. 0. 0. 0. 0. 0. 1. 0.]\n",
      " [1. 0. 0. 0. 0. 0. 0. 0. 0. 0. 1.]]\n"
     ]
    }
   ],
   "source": [
    "print(arr)"
   ]
  },
  {
   "cell_type": "markdown",
   "id": "4272e2db",
   "metadata": {},
   "source": [
    "## 2. Засобами NumPy створити вертикальні та горизонтальні зображення градієнту в обидва боки (поступове збільшення яскравості на зображенні).\n",
    "\n",
    "Приклад зображення градієнту\n",
    "<img src=\"./Data/Intro to Numpy/grad_example.jpg\" height=\"200\" width=\"200\">"
   ]
  },
  {
   "cell_type": "markdown",
   "id": "59626a24",
   "metadata": {},
   "source": [
    "### Горизонтальний градієнт"
   ]
  },
  {
   "cell_type": "markdown",
   "id": "39be1005",
   "metadata": {},
   "source": [
    "2.1 Створити нульовий масив розміром 255х255"
   ]
  },
  {
   "cell_type": "code",
   "execution_count": 7,
   "id": "7ff55b57",
   "metadata": {},
   "outputs": [],
   "source": [
    "size = 255\n",
    "horizontal_gradient1 = np.zeros([size,size])"
   ]
  },
  {
   "cell_type": "markdown",
   "id": "ca51959c",
   "metadata": {},
   "source": [
    "2.2 Визначити розміри масиву"
   ]
  },
  {
   "cell_type": "code",
   "execution_count": 8,
   "id": "c7ae63a7",
   "metadata": {},
   "outputs": [],
   "source": [
    "w = horizontal_gradient1.shape[1]\n",
    "h = horizontal_gradient1.shape[0]"
   ]
  },
  {
   "cell_type": "markdown",
   "id": "2372b868",
   "metadata": {},
   "source": [
    "2.3 Поелементно змінити яскравості кожного пікселя"
   ]
  },
  {
   "cell_type": "code",
   "execution_count": 9,
   "id": "020103d7",
   "metadata": {},
   "outputs": [],
   "source": [
    "for i in range(h):\n",
    "    for j in range(w):\n",
    "        horizontal_gradient1[i][j] = j"
   ]
  },
  {
   "cell_type": "markdown",
   "id": "8e22f2d3",
   "metadata": {},
   "source": [
    "2.4 Записати зображення засабами OpenCV"
   ]
  },
  {
   "cell_type": "code",
   "execution_count": 10,
   "id": "682f53bf",
   "metadata": {},
   "outputs": [
    {
     "data": {
      "text/plain": [
       "True"
      ]
     },
     "execution_count": 10,
     "metadata": {},
     "output_type": "execute_result"
    }
   ],
   "source": [
    "cv2.imwrite('Data/Intro to Numpy/resualt1.jpg', horizontal_gradient1)"
   ]
  },
  {
   "cell_type": "markdown",
   "id": "b0fc8963",
   "metadata": {},
   "source": [
    "**Отриманий нами результат**\n",
    "<img src=\"./Data/Intro to Numpy/resualt1.jpg\" height=\"200\" width=\"200\">"
   ]
  },
  {
   "cell_type": "markdown",
   "id": "0ad64a45",
   "metadata": {},
   "source": [
    "2.5 Аналогічно створити горизонтальний градієнт в інший бік"
   ]
  },
  {
   "cell_type": "code",
   "execution_count": 11,
   "id": "5ad6459c",
   "metadata": {},
   "outputs": [
    {
     "data": {
      "text/plain": [
       "True"
      ]
     },
     "execution_count": 11,
     "metadata": {},
     "output_type": "execute_result"
    }
   ],
   "source": [
    "horizontal_gradient2 = np.zeros([size,size])\n",
    "\n",
    "w = horizontal_gradient2.shape[1]\n",
    "h = horizontal_gradient2.shape[0]\n",
    "for i in range(h):\n",
    "    for j in range(w):\n",
    "        horizontal_gradient2[i][j] = w - j - 1 \n",
    "        \n",
    "cv2.imwrite('Data/Intro to Numpy/resualt2.jpg', horizontal_gradient2)"
   ]
  },
  {
   "cell_type": "markdown",
   "id": "8139a57a",
   "metadata": {},
   "source": [
    "**Отриманий нами результат**\n",
    "<img src=\"./Data/Intro to Numpy/resualt2.jpg\" height=\"200\" width=\"200\">"
   ]
  },
  {
   "cell_type": "markdown",
   "id": "94fd387f",
   "metadata": {},
   "source": [
    "### Вертикальний градієнт"
   ]
  },
  {
   "cell_type": "markdown",
   "id": "445c25cb",
   "metadata": {},
   "source": [
    "2.6 Створити нульовий масив розміром 255х255"
   ]
  },
  {
   "cell_type": "code",
   "execution_count": 12,
   "id": "6693a0d7",
   "metadata": {},
   "outputs": [],
   "source": [
    "vertical_gradient1 = np.zeros([size,size])"
   ]
  },
  {
   "cell_type": "markdown",
   "id": "cf510abd",
   "metadata": {},
   "source": [
    "2.7 Визначити розміри масиву"
   ]
  },
  {
   "cell_type": "code",
   "execution_count": 13,
   "id": "b3c7dc60",
   "metadata": {},
   "outputs": [],
   "source": [
    "w = vertical_gradient1.shape[1]\n",
    "h = vertical_gradient1.shape[0]"
   ]
  },
  {
   "cell_type": "markdown",
   "id": "0f25a9e5",
   "metadata": {},
   "source": [
    "2.8 Поелементно змінити яскравості кожного пікселя"
   ]
  },
  {
   "cell_type": "code",
   "execution_count": 14,
   "id": "c0724d5d",
   "metadata": {},
   "outputs": [],
   "source": [
    "for i in range(h):\n",
    "    for j in range(w):\n",
    "        vertical_gradient1[i][j] = i"
   ]
  },
  {
   "cell_type": "markdown",
   "id": "cd13c8c1",
   "metadata": {},
   "source": [
    "2.9 Записати зображення засабами OpenCV"
   ]
  },
  {
   "cell_type": "code",
   "execution_count": 15,
   "id": "8c3e7747",
   "metadata": {},
   "outputs": [
    {
     "data": {
      "text/plain": [
       "True"
      ]
     },
     "execution_count": 15,
     "metadata": {},
     "output_type": "execute_result"
    }
   ],
   "source": [
    "cv2.imwrite('Data/Intro to Numpy/resualt3.jpg', vertical_gradient1)"
   ]
  },
  {
   "cell_type": "markdown",
   "id": "439bdd37",
   "metadata": {},
   "source": [
    "**Отриманий нами результат**\n",
    "<img src=\"./Data/Intro to Numpy/resualt3.jpg\" height=\"200\" width=\"200\">"
   ]
  },
  {
   "cell_type": "markdown",
   "id": "7f0843bd",
   "metadata": {},
   "source": [
    "2.10 Аналогічно створити горизонтальний градієнт в інший бік"
   ]
  },
  {
   "cell_type": "code",
   "execution_count": 16,
   "id": "40c8f60c",
   "metadata": {},
   "outputs": [
    {
     "data": {
      "text/plain": [
       "True"
      ]
     },
     "execution_count": 16,
     "metadata": {},
     "output_type": "execute_result"
    }
   ],
   "source": [
    "vertical_gradient2 = np.zeros([size,size])\n",
    "\n",
    "w = vertical_gradient2.shape[1]\n",
    "h = vertical_gradient2.shape[0]\n",
    "\n",
    "for i in range(h):\n",
    "    for j in range(w):\n",
    "        vertical_gradient2[i][j] = h - i - 1\n",
    "        \n",
    "cv2.imwrite('Data/Intro to Numpy/resualt4.jpg', vertical_gradient2)\n"
   ]
  },
  {
   "cell_type": "markdown",
   "id": "b836446f",
   "metadata": {},
   "source": [
    "**Отриманий нами результат**\n",
    "<img src=\"./Data/Intro to Numpy/resualt4.jpg\" height=\"200\" width=\"200\">"
   ]
  }
 ],
 "metadata": {
  "kernelspec": {
   "display_name": "Python 3 (ipykernel)",
   "language": "python",
   "name": "python3"
  },
  "language_info": {
   "codemirror_mode": {
    "name": "ipython",
    "version": 3
   },
   "file_extension": ".py",
   "mimetype": "text/x-python",
   "name": "python",
   "nbconvert_exporter": "python",
   "pygments_lexer": "ipython3",
   "version": "3.10.1"
  }
 },
 "nbformat": 4,
 "nbformat_minor": 5
}
